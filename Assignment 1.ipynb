{
 "cells": [
  {
   "cell_type": "markdown",
   "id": "bfe7d716-83db-493b-a160-2f8c96ca8fda",
   "metadata": {},
   "source": [
    "# ASSIGNMENT 1"
   ]
  },
  {
   "cell_type": "markdown",
   "id": "1520d7cc-3c11-4d29-ac47-66954ed17086",
   "metadata": {},
   "source": [
    "## 1) Create a variable x and assign it the value 5. print the value of x"
   ]
  },
  {
   "cell_type": "code",
   "execution_count": 6,
   "id": "3564117a-7850-47b5-8046-c415b6cc631b",
   "metadata": {},
   "outputs": [],
   "source": [
    "x=5"
   ]
  },
  {
   "cell_type": "code",
   "execution_count": 7,
   "id": "e3f5308a-d772-43eb-b860-ae0ad8e7e201",
   "metadata": {},
   "outputs": [
    {
     "name": "stdout",
     "output_type": "stream",
     "text": [
      "5\n"
     ]
    }
   ],
   "source": [
    "print(x)"
   ]
  },
  {
   "cell_type": "markdown",
   "id": "353dbdb1-6781-4575-a9bf-2177bbe7c55c",
   "metadata": {},
   "source": [
    "## 2) creat two variables a and b, and assign them value 3 and 2 respectively. add a and b together and print the result"
   ]
  },
  {
   "cell_type": "code",
   "execution_count": 17,
   "id": "a5fb13ff-d44c-4673-ab86-baab29384b0d",
   "metadata": {},
   "outputs": [],
   "source": [
    "a=3\n",
    "b=2"
   ]
  },
  {
   "cell_type": "code",
   "execution_count": 18,
   "id": "667601c0-393e-4a91-a91e-653b5eb4ca1a",
   "metadata": {},
   "outputs": [
    {
     "name": "stdout",
     "output_type": "stream",
     "text": [
      "5\n"
     ]
    }
   ],
   "source": [
    "print(a+b)"
   ]
  },
  {
   "cell_type": "markdown",
   "id": "84939bdd-efe4-4c77-9b8f-717d72f15d84",
   "metadata": {},
   "source": [
    "## 3) Create a variable pi and assign it the value 3.14159. Print the value of pi.\r"
   ]
  },
  {
   "cell_type": "code",
   "execution_count": 19,
   "id": "feee704d-8f90-44d1-999d-835a625d4325",
   "metadata": {},
   "outputs": [],
   "source": [
    "pi=3.14159"
   ]
  },
  {
   "cell_type": "code",
   "execution_count": 20,
   "id": "d228e0a5-5a15-4925-9a91-5706c9105472",
   "metadata": {},
   "outputs": [
    {
     "name": "stdout",
     "output_type": "stream",
     "text": [
      "3.14159\n"
     ]
    }
   ],
   "source": [
    "print(pi)"
   ]
  },
  {
   "cell_type": "markdown",
   "id": "b43f00fe-157e-4e6b-b99d-dc5eda272299",
   "metadata": {},
   "source": [
    "## 4) Create a variable radius and assign it the value 5. Calculate the area of a circle with radius radius using the formula pi * radius ** 2 and print the result.\r"
   ]
  },
  {
   "cell_type": "code",
   "execution_count": 22,
   "id": "6593a99b-c0ce-4117-8c42-0c274531b8ee",
   "metadata": {},
   "outputs": [],
   "source": [
    "radius=5  ## given radius"
   ]
  },
  {
   "cell_type": "code",
   "execution_count": 23,
   "id": "7f56e6a9-9776-42f2-8721-ceaf81b131df",
   "metadata": {},
   "outputs": [],
   "source": [
    "## calculate the area of circle"
   ]
  },
  {
   "cell_type": "code",
   "execution_count": 24,
   "id": "c9762046-aded-4c22-9593-7d62f17ef9af",
   "metadata": {},
   "outputs": [],
   "source": [
    "pi=3.14"
   ]
  },
  {
   "cell_type": "code",
   "execution_count": 25,
   "id": "958cb40b-f900-46fe-9622-483c286d3ddc",
   "metadata": {},
   "outputs": [],
   "source": [
    "area= pi*radius**2"
   ]
  },
  {
   "cell_type": "code",
   "execution_count": 27,
   "id": "6817a6e6-1300-4eed-809c-e8d68b29356b",
   "metadata": {},
   "outputs": [
    {
     "name": "stdout",
     "output_type": "stream",
     "text": [
      "the area ofcircle with radius 5 is 78.50 square units\n"
     ]
    }
   ],
   "source": [
    "print(f\"the area ofcircle with radius {radius} is {area:.2f} square units\" )"
   ]
  },
  {
   "cell_type": "markdown",
   "id": "0f66da90-f515-4042-aaf5-4101f5a536e7",
   "metadata": {},
   "source": [
    "## 5) Create a variable name and assign it your name as a string. Print a greeting using your name, such as \"Hello, [name]!\"\"\r"
   ]
  },
  {
   "cell_type": "code",
   "execution_count": 30,
   "id": "8e38dcb2-9259-4e74-9c76-c2aa5f77697f",
   "metadata": {},
   "outputs": [],
   "source": [
    "name = \"GOPAL\""
   ]
  },
  {
   "cell_type": "code",
   "execution_count": 35,
   "id": "d81e6d6a-0d69-4d37-a345-797c962c3533",
   "metadata": {},
   "outputs": [
    {
     "name": "stdout",
     "output_type": "stream",
     "text": [
      "Hello, GOPAL!\n"
     ]
    }
   ],
   "source": [
    "print(f\"Hello, {name}!\")"
   ]
  },
  {
   "cell_type": "markdown",
   "id": "a8b288db-b538-4a7d-b41e-2452f9861aff",
   "metadata": {},
   "source": [
    "## 6) Create a variable age and assign it your age as an integer. Print a sentence that includes your age, such as \"I am [age] years old.\"\r"
   ]
  },
  {
   "cell_type": "code",
   "execution_count": 36,
   "id": "c4629b63-9331-4064-8683-2d4b9650a21e",
   "metadata": {},
   "outputs": [],
   "source": [
    "age=28"
   ]
  },
  {
   "cell_type": "code",
   "execution_count": 37,
   "id": "c43f76e4-ebd2-4c06-a11e-bd9361ae141b",
   "metadata": {},
   "outputs": [
    {
     "name": "stdout",
     "output_type": "stream",
     "text": [
      "I am 28 years old.\n"
     ]
    }
   ],
   "source": [
    "print(f\"I am {age} years old.\")"
   ]
  },
  {
   "cell_type": "markdown",
   "id": "000447f2-3ff7-45d7-a543-cd783595515b",
   "metadata": {},
   "source": [
    "## 7) Create a variable height and assign it your height in meters as a float. Print a sentence that includes your height, such as \"I am [height] meters tall.\"\""
   ]
  },
  {
   "cell_type": "code",
   "execution_count": 41,
   "id": "cc91d5ca-44a0-4bdc-a329-54cf3282b144",
   "metadata": {},
   "outputs": [],
   "source": [
    "height= 1.67 ## height in meters"
   ]
  },
  {
   "cell_type": "code",
   "execution_count": 42,
   "id": "be32a876-3b43-4d54-aa64-bd4a285a0b7f",
   "metadata": {},
   "outputs": [
    {
     "name": "stdout",
     "output_type": "stream",
     "text": [
      "I am 1.67 meters tall.\n"
     ]
    }
   ],
   "source": [
    "print(f\"I am {height} meters tall.\")"
   ]
  },
  {
   "cell_type": "markdown",
   "id": "ffda3ac0-f66b-451a-838f-9f533df4e364",
   "metadata": {},
   "source": [
    "## 8) Create a variable sentence and assign it a sentence as a string. Print the first letter of the sentence."
   ]
  },
  {
   "cell_type": "code",
   "execution_count": 59,
   "id": "68b83579-b39d-49bd-83f0-cc4ee69b7de7",
   "metadata": {},
   "outputs": [],
   "source": [
    " sentence = 'One among the popular courses in today world is AI'"
   ]
  },
  {
   "cell_type": "code",
   "execution_count": 60,
   "id": "56aab8d7-fb33-426c-9b4e-492fb557b3f2",
   "metadata": {},
   "outputs": [
    {
     "name": "stdout",
     "output_type": "stream",
     "text": [
      "The first letter of the sentence is: O\n"
     ]
    }
   ],
   "source": [
    "print(\"The first letter of the sentence is:\", sentence[0])"
   ]
  },
  {
   "cell_type": "markdown",
   "id": "3e4ce3df-6500-47dc-9a8b-a3035052582e",
   "metadata": {},
   "source": [
    "## 9)  Create a variable sentence and assign it a sentence as a string. Print the last letter of the sentence.\r"
   ]
  },
  {
   "cell_type": "code",
   "execution_count": 61,
   "id": "d7472004-d1d2-41e6-9ded-6d2fc9fad4d5",
   "metadata": {},
   "outputs": [],
   "source": [
    "sentence='I am Gopal from mechanical department'"
   ]
  },
  {
   "cell_type": "code",
   "execution_count": 63,
   "id": "596fc67d-22c4-4b82-9725-a2b72f7adc79",
   "metadata": {},
   "outputs": [
    {
     "name": "stdout",
     "output_type": "stream",
     "text": [
      "The last letter of the sentence is: t\n"
     ]
    }
   ],
   "source": [
    "print('The last letter of the sentence is:', sentence[-1])"
   ]
  },
  {
   "cell_type": "markdown",
   "id": "ffd38a4c-ad60-46b7-ae9f-faba1cefc987",
   "metadata": {},
   "source": [
    "## 10) Create a variable sentence and assign it a sentence as a string. Print the length of the sentence."
   ]
  },
  {
   "cell_type": "code",
   "execution_count": 64,
   "id": "91946278-e0b2-4c4a-8c6c-4a5a20ccc7ef",
   "metadata": {},
   "outputs": [],
   "source": [
    "sentence = 'The development of AI is tremendus over a decate'"
   ]
  },
  {
   "cell_type": "code",
   "execution_count": 71,
   "id": "bab94cdf-46bd-4183-9b6f-485ba53417f7",
   "metadata": {},
   "outputs": [
    {
     "name": "stdout",
     "output_type": "stream",
     "text": [
      "The length of the string is: 48characters.\n"
     ]
    }
   ],
   "source": [
    "print(f'The length of the string is: {len(sentence)}characters.')"
   ]
  }
 ],
 "metadata": {
  "kernelspec": {
   "display_name": "Python 3 (ipykernel)",
   "language": "python",
   "name": "python3"
  },
  "language_info": {
   "codemirror_mode": {
    "name": "ipython",
    "version": 3
   },
   "file_extension": ".py",
   "mimetype": "text/x-python",
   "name": "python",
   "nbconvert_exporter": "python",
   "pygments_lexer": "ipython3",
   "version": "3.12.0"
  }
 },
 "nbformat": 4,
 "nbformat_minor": 5
}
